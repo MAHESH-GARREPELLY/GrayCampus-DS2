{
 "cells": [
  {
   "cell_type": "code",
   "execution_count": 12,
   "metadata": {},
   "outputs": [],
   "source": [
    "    \n",
    "def CheckPrime(Number):\n",
    "    flag=False\n",
    "    for i in range(2,Number):\n",
    "         if(Number % i)==0:\n",
    "                flag=True\n",
    "                break\n",
    "    if flag:\n",
    "            print(Number, \" is not a prime number...\")\n",
    "    else:\n",
    "            print(Number, \"is a prime number...\")\n"
   ]
  },
  {
   "cell_type": "code",
   "execution_count": 13,
   "metadata": {},
   "outputs": [],
   "source": [
    "def main():\n",
    "    #This statement instructs user to enter the number number greater than 1 \n",
    "    print(\"Entered number must be greater than 1....\")\n",
    "    \n",
    "    #Takes input from the user and stores in the variable\n",
    "    Number=int(input(\"Enter the Number...\"))\n",
    "    \n",
    "    # to check the input must be greater than 1\n",
    "    if Number>1:\n",
    "        # CheckPrime is a Function to check whether prime or not with passing an argument ie., Number variable \n",
    "        CheckPrime(Number)       \n",
    "   \n"
   ]
  },
  {
   "cell_type": "code",
   "execution_count": 14,
   "metadata": {},
   "outputs": [
    {
     "name": "stdout",
     "output_type": "stream",
     "text": [
      "Entered number must be greater than 1....\n",
      "Enter the Number...37\n",
      "37 is a prime number...\n"
     ]
    }
   ],
   "source": [
    "main()\n"
   ]
  },
  {
   "cell_type": "code",
   "execution_count": null,
   "metadata": {},
   "outputs": [],
   "source": []
  },
  {
   "cell_type": "code",
   "execution_count": null,
   "metadata": {},
   "outputs": [],
   "source": []
  }
 ],
 "metadata": {
  "kernelspec": {
   "display_name": "Python 3",
   "language": "python",
   "name": "python3"
  },
  "language_info": {
   "codemirror_mode": {
    "name": "ipython",
    "version": 3
   },
   "file_extension": ".py",
   "mimetype": "text/x-python",
   "name": "python",
   "nbconvert_exporter": "python",
   "pygments_lexer": "ipython3",
   "version": "3.8.5"
  }
 },
 "nbformat": 4,
 "nbformat_minor": 4
}
